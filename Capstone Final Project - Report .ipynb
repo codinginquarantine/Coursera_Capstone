{
    "cells": [
        {
            "attachments": {},
            "cell_type": "markdown",
            "metadata": {
                "collapsed": true
            },
            "source": "# Evaluation of Neighborhoods in Toronto for a new Burmese Restaurant"
        },
        {
            "attachments": {},
            "cell_type": "markdown",
            "metadata": {},
            "source": "## Applied Data Science Capstone (Week 5) by Laura Willis"
        },
        {
            "attachments": {
                "image.png": {
                    "image/png": "[encoded data removed]"
                }
            },
            "cell_type": "markdown",
            "metadata": {},
            "source": "This is my final capstone project for IBM Applied Data Science Capstone course in Coursera.![image.png](attachment:image.png)"
        },
        {
            "cell_type": "markdown",
            "metadata": {},
            "source": "### Introduction"
        },
        {
            "attachments": {},
            "cell_type": "markdown",
            "metadata": {},
            "source": "For this Capstone project, I will be using a hypothetical scenario for a restaurateur who is investigating opening an authentic Burmese restaurant in Toronto area. He already has a Burmese restaurant in NYC, but is unfamiliar with Toronto. While Asian cuisine is very popular, there do not seem to be as many Burmese restaurants in Toronto and it might present a great opportunity for this entrepreneur. As Burmese cuisine is in many ways similar to Thai cuisines, this entrepreneur is thinking of opening this restaurant in locations where Thai food is popular, looking for a potential area where there are many Thai restaurants in the neighborhood. With these parameters, I should be able to advise on a suitable location. "
        },
        {
            "cell_type": "markdown",
            "metadata": {},
            "source": "### Business Problem"
        },
        {
            "attachments": {},
            "cell_type": "markdown",
            "metadata": {},
            "source": "The objective of this project is to find a high concentration of Thai restaurants and thus advise on the best location for the restaurateur to open a new Burmese restaurant in Toronto, Canada. Combining data science methods and machine learning methods such as clustering, this project aims to answer the business question: In Toronto, where should the restaurateur consider opening a Burmese restaurant?"
        },
        {
            "cell_type": "markdown",
            "metadata": {},
            "source": "### Target Audience"
        },
        {
            "attachments": {},
            "cell_type": "markdown",
            "metadata": {},
            "source": "The audience for this project is my client, a restaurant entrepreneur who wants to find a good location to open a Burmese restaurant."
        },
        {
            "cell_type": "markdown",
            "metadata": {},
            "source": ""
        },
        {
            "cell_type": "markdown",
            "metadata": {},
            "source": ""
        },
        {
            "cell_type": "markdown",
            "metadata": {},
            "source": ""
        },
        {
            "cell_type": "markdown",
            "metadata": {},
            "source": ""
        },
        {
            "cell_type": "markdown",
            "metadata": {},
            "source": ""
        },
        {
            "cell_type": "markdown",
            "metadata": {},
            "source": ""
        }
    ],
    "metadata": {
        "kernelspec": {
            "display_name": "Python 3.6",
            "language": "python",
            "name": "python3"
        },
        "language_info": {
            "codemirror_mode": {
                "name": "ipython",
                "version": 3
            },
            "file_extension": ".py",
            "mimetype": "text/x-python",
            "name": "python",
            "nbconvert_exporter": "python",
            "pygments_lexer": "ipython3",
            "version": "3.6.9"
        }
    },
    "nbformat": 4,
    "nbformat_minor": 1
}